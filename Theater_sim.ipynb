{
 "cells": [
  {
   "cell_type": "markdown",
   "metadata": {},
   "source": [
    "Theater Simulation model\n",
    "CUNY SPS Data 604\n",
    "Summer 2020\n",
    "\n",
    "Created by: John Kellogg"
   ]
  },
  {
   "cell_type": "code",
   "execution_count": 1,
   "metadata": {},
   "outputs": [],
   "source": [
    "import simpy \n",
    "import random\n",
    "import statistics\n",
    "from modsim import *\n",
    "import matplotlib.pyplot as plt "
   ]
  },
  {
   "cell_type": "markdown",
   "metadata": {},
   "source": [
    "Defining the Global varibles "
   ]
  },
  {
   "cell_type": "code",
   "execution_count": 2,
   "metadata": {},
   "outputs": [],
   "source": [
    "def environ_var():\n",
    "    global alpha\n",
    "    global beta\n",
    "    global wait_times\n",
    "    global servers_array\n",
    "    \n",
    "    alpha = 3\n",
    "    beta = 1.5\n",
    "    wait_times = []\n",
    "    servers_array = [1,2,3,4,5,6,7,8]"
   ]
  },
  {
   "cell_type": "code",
   "execution_count": 3,
   "metadata": {},
   "outputs": [],
   "source": [
    "def plot_results(results):\n",
    "    plt.hist(results, bins = 40)\n",
    "    plt.show() "
   ]
  },
  {
   "cell_type": "markdown",
   "metadata": {},
   "source": [
    "Function to create the system object and ask for user input on numbers of staff per station"
   ]
  },
  {
   "cell_type": "code",
   "execution_count": 4,
   "metadata": {},
   "outputs": [],
   "source": [
    "def make_system():\n",
    "    \n",
    "    environ_var()\n",
    "    \n",
    "    num_cashiers = input(\"Input # of cashiers working (1-4): \")\n",
    "    num_servers = []\n",
    "    num_ushers = 2\n",
    "    num_health = 3\n",
    "    mins = []\n",
    "    secs = []                   \n",
    "        \n",
    "    return System(num_cashiers = num_cashiers, num_servers = num_servers, num_ushers = num_ushers, \n",
    "                  num_health = num_health, mins = mins, secs = secs)"
   ]
  },
  {
   "cell_type": "markdown",
   "metadata": {},
   "source": [
    "Creating the theater environment and stations"
   ]
  },
  {
   "cell_type": "code",
   "execution_count": 5,
   "metadata": {},
   "outputs": [],
   "source": [
    "class Theater(object):\n",
    "     \n",
    "    def __init__(self, env, num_cashiers, num_servers, num_ushers, num_health):\n",
    "        self.env = env\n",
    "        self.cashier = simpy.Resource(env, num_cashiers)\n",
    "        self.server = simpy.Resource(env, num_servers)\n",
    "        self.usher = simpy.Resource(env, num_ushers)\n",
    "        self.health = simpy.Resource(env, num_health)\n",
    "\n",
    "    # defining the process of tickets and waits of 1 to 3 minutes\n",
    "    def purchase_ticket(self, moviegoer):\n",
    "        yield self.env.timeout(random.paretovariate(alpha))\n",
    "\n",
    "    # defining the Health check and waits 1 to 3 minutes    \n",
    "    def health_check(self, moviegoer):\n",
    "        yield self.env.timeout(random.paretovariate(alpha))\n",
    "\n",
    "    # Add Random if possible\n",
    "    def check_ticket(self, moviegoer):\n",
    "        yield self.env.timeout(3 / 60)\n",
    "\n",
    "    # defining the food options and waits of 1 to 5 minutes\n",
    "    def sell_food(self, moviegoer):\n",
    "        yield self.env.timeout(random.paretovariate(beta))"
   ]
  },
  {
   "cell_type": "markdown",
   "metadata": {},
   "source": [
    "Function to build the movie going experience and build in wait times per station"
   ]
  },
  {
   "cell_type": "code",
   "execution_count": 6,
   "metadata": {},
   "outputs": [],
   "source": [
    "def go_to_movies(env, moviegoer, theater):\n",
    "    # Moviegoer arrives at the theater\n",
    "    arrival_time = env.now\n",
    "    snacks = random.choice([True, False])\n",
    "    \n",
    "    # getting a ticket\n",
    "    with theater.cashier.request() as request:\n",
    "        yield request\n",
    "        yield env.process(theater.purchase_ticket(moviegoer))\n",
    "    \n",
    "    # getting the health screening    \n",
    "    with theater.health.request() as request:\n",
    "        yield request\n",
    "        yield env.process(theater.health_check(moviegoer))\n",
    "    \n",
    "    #getting ticket checked\n",
    "    with theater.usher.request() as request:\n",
    "        yield request\n",
    "        yield env.process(theater.check_ticket(moviegoer))\n",
    "    \n",
    "    # random choice to buy snacks or not    \n",
    "    if snacks == True:\n",
    "        with theater.server.request() as request:\n",
    "            yield request\n",
    "            yield env.process(theater.sell_food(moviegoer))\n",
    "    \n",
    "    # substract arrival time from wait times to get total time \n",
    "    wait_times.append(env.now - arrival_time)"
   ]
  },
  {
   "cell_type": "markdown",
   "metadata": {},
   "source": [
    "Function to run the environment create the stations with the user defined staff numbers"
   ]
  },
  {
   "cell_type": "code",
   "execution_count": 7,
   "metadata": {},
   "outputs": [],
   "source": [
    "def run_theater(env, num_cashiers, num_servers, num_ushers, num_health):\n",
    "    theater = Theater(env, num_cashiers, num_servers, num_ushers, num_health)\n",
    "    \n",
    "    lambd = 3\n",
    "    n = random.randint(1, 10)\n",
    "    #start sim with people waiting for opening\n",
    "    #replace with Random number\n",
    "    for moviegoer in range(n):\n",
    "        env.process(go_to_movies(env, moviegoer, theater))\n",
    "    \n",
    "    # wait time for next person\n",
    "    while True:\n",
    "        \n",
    "        yield env.timeout(random.expovariate(lambd))\n",
    "        \n",
    "        # add another movie goer to sim \n",
    "        # replace with random number generator of 1-5\n",
    "        moviegoer += n\n",
    "        env.process (go_to_movies(env,moviegoer,theater))"
   ]
  },
  {
   "cell_type": "markdown",
   "metadata": {},
   "source": [
    "Function to create the average (median) wait times"
   ]
  },
  {
   "cell_type": "code",
   "execution_count": 8,
   "metadata": {},
   "outputs": [],
   "source": [
    "def get_average_wait_time(wait_times):\n",
    "    average_wait = statistics.mean(wait_times)\n",
    "    minutes, frac_minutes = divmod(average_wait, 1)\n",
    "    seconds = frac_minutes * 60\n",
    "    return round(minutes), round(seconds)"
   ]
  },
  {
   "cell_type": "markdown",
   "metadata": {},
   "source": [
    "We always need a method to clear the model to run it again."
   ]
  },
  {
   "cell_type": "code",
   "execution_count": 9,
   "metadata": {},
   "outputs": [],
   "source": [
    "def reset_model():\n",
    "    global wait_times\n",
    "    global alpha\n",
    "    global beta\n",
    "    wait_times = [] \n",
    "    alpha = []\n",
    "    beta = []\n",
    "    system.num_cashiers = []"
   ]
  },
  {
   "cell_type": "markdown",
   "metadata": {},
   "source": [
    "Function to plot results with the findings of the model"
   ]
  },
  {
   "cell_type": "code",
   "execution_count": 10,
   "metadata": {},
   "outputs": [],
   "source": [
    "def plot_results(results):\n",
    "    # results being the return value of the main model\n",
    "    plt.hist(results, bins = 40)\n",
    "    plt.show()"
   ]
  },
  {
   "cell_type": "markdown",
   "metadata": {},
   "source": [
    "Main Function to run all active all the functions previously defined and print the results."
   ]
  },
  {
   "cell_type": "code",
   "execution_count": 11,
   "metadata": {},
   "outputs": [],
   "source": [
    "def run_simulation(system, num_servers):\n",
    "\n",
    "   # Setup environment\n",
    "    environ_var()\n",
    "    random.seed(42)\n",
    "    num_cashiers = int(system.num_cashiers) \n",
    "    num_servers = num_servers \n",
    "    num_ushers = int(system.num_ushers)\n",
    "    num_health = int(system.num_health)\n",
    "\n",
    "    # Run the simulation\n",
    "    env = simpy.Environment()\n",
    "    env.process(run_theater(env, num_cashiers, num_servers, num_ushers, num_health))\n",
    "    env.run(until=90)\n",
    "\n",
    "    # View the results\n",
    "    \n",
    "    \"\"\"\n",
    "    for i in range(num_runs):\n",
    "        results[i] = wait_times\n",
    "        \n",
    "    results_full = DataFrame(results)\n",
    "    results_full = get_average_wait_time(results_full['0'])\n",
    "    \n",
    "    return results_full\n",
    "    \"\"\"\n",
    "    get_average_wait_time(wait_times)\n",
    "    #print_results()"
   ]
  },
  {
   "cell_type": "code",
   "execution_count": 12,
   "metadata": {},
   "outputs": [],
   "source": [
    "def server_model(system):\n",
    " \n",
    "    sweep = SweepSeries()\n",
    "    \n",
    "    for servers in servers_array:\n",
    "        run_simulation(system, servers)\n",
    "        sweep[servers] = get_average_wait_time(wait_times)\n",
    "\n",
    "    return sweep"
   ]
  },
  {
   "cell_type": "code",
   "execution_count": 13,
   "metadata": {},
   "outputs": [
    {
     "name": "stdout",
     "output_type": "stream",
     "text": [
      "Input # of cashiers working (1-4): 2\n"
     ]
    }
   ],
   "source": [
    "system = make_system()"
   ]
  },
  {
   "cell_type": "code",
   "execution_count": 14,
   "metadata": {},
   "outputs": [],
   "source": [
    "servers = server_model(system)"
   ]
  },
  {
   "cell_type": "code",
   "execution_count": 16,
   "metadata": {},
   "outputs": [
    {
     "data": {
      "text/html": [
       "<div>\n",
       "<style scoped>\n",
       "    .dataframe tbody tr th:only-of-type {\n",
       "        vertical-align: middle;\n",
       "    }\n",
       "\n",
       "    .dataframe tbody tr th {\n",
       "        vertical-align: top;\n",
       "    }\n",
       "\n",
       "    .dataframe thead th {\n",
       "        text-align: right;\n",
       "    }\n",
       "</style>\n",
       "<table border=\"1\" class=\"dataframe\">\n",
       "  <thead>\n",
       "    <tr style=\"text-align: right;\">\n",
       "      <th></th>\n",
       "      <th>values</th>\n",
       "    </tr>\n",
       "  </thead>\n",
       "  <tbody>\n",
       "    <tr>\n",
       "      <td>1</td>\n",
       "      <td>(31.0, 4.0)</td>\n",
       "    </tr>\n",
       "    <tr>\n",
       "      <td>2</td>\n",
       "      <td>(32.0, 35.0)</td>\n",
       "    </tr>\n",
       "    <tr>\n",
       "      <td>3</td>\n",
       "      <td>(28.0, 32.0)</td>\n",
       "    </tr>\n",
       "    <tr>\n",
       "      <td>4</td>\n",
       "      <td>(26.0, 34.0)</td>\n",
       "    </tr>\n",
       "    <tr>\n",
       "      <td>5</td>\n",
       "      <td>(26.0, 34.0)</td>\n",
       "    </tr>\n",
       "    <tr>\n",
       "      <td>6</td>\n",
       "      <td>(26.0, 34.0)</td>\n",
       "    </tr>\n",
       "    <tr>\n",
       "      <td>7</td>\n",
       "      <td>(26.0, 34.0)</td>\n",
       "    </tr>\n",
       "    <tr>\n",
       "      <td>8</td>\n",
       "      <td>(26.0, 34.0)</td>\n",
       "    </tr>\n",
       "  </tbody>\n",
       "</table>\n",
       "</div>"
      ],
      "text/plain": [
       "1     (31.0, 4.0)\n",
       "2    (32.0, 35.0)\n",
       "3    (28.0, 32.0)\n",
       "4    (26.0, 34.0)\n",
       "5    (26.0, 34.0)\n",
       "6    (26.0, 34.0)\n",
       "7    (26.0, 34.0)\n",
       "8    (26.0, 34.0)\n",
       "dtype: object"
      ]
     },
     "execution_count": 16,
     "metadata": {},
     "output_type": "execute_result"
    }
   ],
   "source": [
    "servers"
   ]
  },
  {
   "cell_type": "code",
   "execution_count": 15,
   "metadata": {},
   "outputs": [],
   "source": [
    "#reset_model()"
   ]
  }
 ],
 "metadata": {
  "kernelspec": {
   "display_name": "Python 3",
   "language": "python",
   "name": "python3"
  },
  "language_info": {
   "codemirror_mode": {
    "name": "ipython",
    "version": 3
   },
   "file_extension": ".py",
   "mimetype": "text/x-python",
   "name": "python",
   "nbconvert_exporter": "python",
   "pygments_lexer": "ipython3",
   "version": "3.7.4"
  }
 },
 "nbformat": 4,
 "nbformat_minor": 2
}
